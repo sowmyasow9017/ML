{
 "cells": [
  {
   "cell_type": "code",
   "execution_count": 8,
   "metadata": {
    "collapsed": true
   },
   "outputs": [],
   "source": [
    "import numpy as np\n",
    "import pandas as pd"
   ]
  },
  {
   "cell_type": "code",
   "execution_count": 9,
   "metadata": {
    "collapsed": false
   },
   "outputs": [
    {
     "name": "stderr",
     "output_type": "stream",
     "text": [
      "C:\\SowmyaSoftwares\\Anaconda3\\lib\\site-packages\\IPython\\core\\interactiveshell.py:2717: DtypeWarning: Columns (19,47) have mixed types. Specify dtype option on import or set low_memory=False.\n",
      "  interactivity=interactivity, compiler=compiler, result=result)\n"
     ]
    }
   ],
   "source": [
    "loan = pd.read_csv('lending-club-data.csv')"
   ]
  },
  {
   "cell_type": "code",
   "execution_count": 10,
   "metadata": {
    "collapsed": false
   },
   "outputs": [],
   "source": [
    "loan['safe_loans'] = loan['bad_loans'].apply(lambda x:+1 if x==0 else -1)"
   ]
  },
  {
   "cell_type": "code",
   "execution_count": 11,
   "metadata": {
    "collapsed": true
   },
   "outputs": [],
   "source": [
    "loan.drop('bad_loans',1,inplace=True)"
   ]
  },
  {
   "cell_type": "code",
   "execution_count": 12,
   "metadata": {
    "collapsed": true
   },
   "outputs": [],
   "source": [
    "features = ['grade',              # grade of the loan\n",
    "            'term',               # the term of the loan\n",
    "            'home_ownership',     # home_ownership status: own, mortgage or rent\n",
    "            'emp_length',         # number of years of employment\n",
    "           ]\n",
    "target = 'safe_loans'"
   ]
  },
  {
   "cell_type": "code",
   "execution_count": 13,
   "metadata": {
    "collapsed": true
   },
   "outputs": [],
   "source": [
    "loan_data = loan[features + [target]]"
   ]
  },
  {
   "cell_type": "code",
   "execution_count": 14,
   "metadata": {
    "collapsed": true
   },
   "outputs": [],
   "source": [
    "import json"
   ]
  },
  {
   "cell_type": "code",
   "execution_count": 15,
   "metadata": {
    "collapsed": true
   },
   "outputs": [],
   "source": [
    "tr = open('module-5-assignment-2-train-idx.json','r')\n",
    "train_ID = json.loads(tr.read())"
   ]
  },
  {
   "cell_type": "code",
   "execution_count": 16,
   "metadata": {
    "collapsed": true
   },
   "outputs": [],
   "source": [
    "te = open('module-5-assignment-2-test-idx.json','r')\n",
    "test_ID = json.loads(te.read())"
   ]
  },
  {
   "cell_type": "code",
   "execution_count": 17,
   "metadata": {
    "collapsed": true
   },
   "outputs": [],
   "source": [
    "train_data = loan_data.iloc[train_ID]\n",
    "test_data = loan_data.iloc[test_ID]"
   ]
  },
  {
   "cell_type": "code",
   "execution_count": 19,
   "metadata": {
    "collapsed": false
   },
   "outputs": [
    {
     "data": {
      "text/html": [
       "<div>\n",
       "<style>\n",
       "    .dataframe thead tr:only-child th {\n",
       "        text-align: right;\n",
       "    }\n",
       "\n",
       "    .dataframe thead th {\n",
       "        text-align: left;\n",
       "    }\n",
       "\n",
       "    .dataframe tbody tr th {\n",
       "        vertical-align: top;\n",
       "    }\n",
       "</style>\n",
       "<table border=\"1\" class=\"dataframe\">\n",
       "  <thead>\n",
       "    <tr style=\"text-align: right;\">\n",
       "      <th></th>\n",
       "      <th>grade</th>\n",
       "      <th>term</th>\n",
       "      <th>home_ownership</th>\n",
       "      <th>emp_length</th>\n",
       "      <th>safe_loans</th>\n",
       "    </tr>\n",
       "  </thead>\n",
       "  <tbody>\n",
       "    <tr>\n",
       "      <th>1</th>\n",
       "      <td>C</td>\n",
       "      <td>60 months</td>\n",
       "      <td>RENT</td>\n",
       "      <td>&lt; 1 year</td>\n",
       "      <td>-1</td>\n",
       "    </tr>\n",
       "  </tbody>\n",
       "</table>\n",
       "</div>"
      ],
      "text/plain": [
       "  grade        term home_ownership emp_length  safe_loans\n",
       "1     C   60 months           RENT   < 1 year          -1"
      ]
     },
     "execution_count": 19,
     "metadata": {},
     "output_type": "execute_result"
    }
   ],
   "source": [
    "train_data.head(1)"
   ]
  },
  {
   "cell_type": "code",
   "execution_count": 23,
   "metadata": {
    "collapsed": false
   },
   "outputs": [],
   "source": [
    "train_f = pd.get_dummies(train_data,features)\n",
    "test_f = pd.get_dummies(test_data,features)"
   ]
  },
  {
   "cell_type": "code",
   "execution_count": 22,
   "metadata": {
    "collapsed": false
   },
   "outputs": [
    {
     "data": {
      "text/plain": [
       "(37224, 26)"
      ]
     },
     "execution_count": 22,
     "metadata": {},
     "output_type": "execute_result"
    }
   ],
   "source": [
    "train_f.shape"
   ]
  },
  {
   "cell_type": "code",
   "execution_count": 24,
   "metadata": {
    "collapsed": false
   },
   "outputs": [
    {
     "data": {
      "text/plain": [
       "(9284, 26)"
      ]
     },
     "execution_count": 24,
     "metadata": {},
     "output_type": "execute_result"
    }
   ],
   "source": [
    "test_f.shape"
   ]
  },
  {
   "cell_type": "code",
   "execution_count": 38,
   "metadata": {
    "collapsed": false
   },
   "outputs": [],
   "source": [
    "def intermediate_node_num_mistakes(labels):\n",
    "    \n",
    "    #label_array = np.array(labels)\n",
    "    safe_loans = np.count_nonzero(labels == +1)\n",
    "    risky_loans = np.count_nonzero(labels == -1)\n",
    "    mistakes = min(safe_loans,risky_loans)\n",
    "    return mistakes"
   ]
  },
  {
   "cell_type": "code",
   "execution_count": null,
   "metadata": {
    "collapsed": false
   },
   "outputs": [],
   "source": []
  },
  {
   "cell_type": "code",
   "execution_count": 67,
   "metadata": {
    "collapsed": false
   },
   "outputs": [],
   "source": [
    "def best_splitting_feature(df,feature_list,label_name):\n",
    "    best_feature = None\n",
    "    best_error= len(df)\n",
    "    for feat in feature_list:\n",
    "        left_split = df[df[feat]==0][label_name]\n",
    "        left_split_mistakes = intermediate_node_num_mistakes(left_split)\n",
    "        right_split = df[df[feat]==1][label_name]\n",
    "        right_split_mistakes = intermediate_node_num_mistakes(right_split)\n",
    "        class_error = (left_split_mistakes+ right_split_mistakes)/len(df)\n",
    "        \n",
    "        if class_error < best_error:\n",
    "            best_error = class_error\n",
    "            best_feature = feat\n",
    "    return best_feature"
   ]
  },
  {
   "cell_type": "code",
   "execution_count": 160,
   "metadata": {
    "collapsed": false
   },
   "outputs": [
    {
     "data": {
      "text/plain": [
       "'term_ 36 months'"
      ]
     },
     "execution_count": 160,
     "metadata": {},
     "output_type": "execute_result"
    }
   ],
   "source": [
    "best_splitting_feature(train_f,feature_list,'safe_loans')"
   ]
  },
  {
   "cell_type": "code",
   "execution_count": 161,
   "metadata": {
    "collapsed": true
   },
   "outputs": [],
   "source": [
    "def create_leaf(target_values):    \n",
    "    # Create a leaf node\n",
    "    leaf = {'splitting_feature' : None,\n",
    "            'left' : None,\n",
    "            'right' : None,\n",
    "            'is_leaf': True   }   ## YOUR CODE HERE \n",
    "   \n",
    "    # Count the number of data points that are +1 and -1 in this node.\n",
    "    num_ones = len(target_values[target_values == +1])\n",
    "    num_minus_ones = len(target_values[target_values == -1])    \n",
    "\n",
    "    # For the leaf node, set the prediction to be the majority class.\n",
    "    # Store the predicted class (1 or -1) in leaf['prediction']\n",
    "    if num_ones > num_minus_ones:\n",
    "        leaf['prediction'] = +1      ## YOUR CODE HERE\n",
    "    else:\n",
    "        leaf['prediction'] = -1       ## YOUR CODE HERE        \n",
    "\n",
    "    # Return the leaf node\n",
    "    return leaf "
   ]
  },
  {
   "cell_type": "code",
   "execution_count": null,
   "metadata": {
    "collapsed": true
   },
   "outputs": [],
   "source": []
  },
  {
   "cell_type": "code",
   "execution_count": 162,
   "metadata": {
    "collapsed": false
   },
   "outputs": [],
   "source": [
    "def decision_tree_create(data, features, target, current_depth = 0, max_depth = 10):\n",
    "    \n",
    "    remaining_features = features\n",
    "    #print(remaining_features)\n",
    "    target_values = data[target]\n",
    "    \n",
    "    if intermediate_node_num_mistakes(target_values) == 0:\n",
    "        \n",
    "        print(\"Stopping condition 1 reached.\")\n",
    "        return create_leaf(target_values)       \n",
    "                \n",
    "    if remaining_features == []:\n",
    "        \n",
    "        print(\"stopping condition 2 reached\")\n",
    "        return create_leaf(target_values)        \n",
    "    \n",
    "    if current_depth == max_depth:\n",
    "        \n",
    "        print(\"stopping condition 3 reached\")\n",
    "        return create_leaf(target_values)\n",
    "            \n",
    "    splitting_feature = best_splitting_feature(data,features,target)\n",
    "    left_split = data[data[splitting_feature] == 0]\n",
    "    right_split = data[data[splitting_feature] == 1]\n",
    "    remaining_features.remove(splitting_feature)\n",
    "    print(\"split on feature %s .(%s,%s)\"%(splitting_feature,len(left_split),len(right_split)))\n",
    "    \n",
    "    # Create a leaf node if the split is \"perfect\"\n",
    "    if len(left_split) == len(data):\n",
    "        print(\"Creating leaf node_1st if.\")\n",
    "        return create_leaf(left_split[target])\n",
    "    if len(right_split) == len(data):\n",
    "        print(\"Creating leaf node_2nd if\")\n",
    "        return create_leaf(right_split[target])\n",
    "    print('before left tree' +str(current_depth))\n",
    "    left_tree = decision_tree_create(left_split, remaining_features, target, current_depth + 1, max_depth)\n",
    "    print(left_tree)\n",
    "    print('inbetween left and right tree' +str(current_depth))\n",
    "    right_tree = decision_tree_create(right_split,remaining_features,target,current_depth+1 ,max_depth)\n",
    "    print(right_tree)\n",
    "    print('after right tree' +str(current_depth))\n",
    "    \n",
    "    return {'is_leaf'          : False, \n",
    "            'prediction'       : None,\n",
    "            'splitting_feature': splitting_feature,\n",
    "            'left'             : left_tree, \n",
    "            'right'            : right_tree}  "
   ]
  },
  {
   "cell_type": "code",
   "execution_count": 163,
   "metadata": {
    "collapsed": false
   },
   "outputs": [
    {
     "data": {
      "text/plain": [
       "'safe_loans'"
      ]
     },
     "execution_count": 163,
     "metadata": {},
     "output_type": "execute_result"
    }
   ],
   "source": [
    "feature_list = list(train_f.drop('safe_loans',1).columns)\n",
    "target"
   ]
  },
  {
   "cell_type": "code",
   "execution_count": 164,
   "metadata": {
    "collapsed": false
   },
   "outputs": [
    {
     "name": "stdout",
     "output_type": "stream",
     "text": [
      "split on feature term_ 36 months .(9223,28001)\n",
      "before left tree0\n",
      "split on feature grade_A .(9122,101)\n",
      "before left tree1\n",
      "split on feature grade_B .(8074,1048)\n",
      "before left tree2\n",
      "split on feature grade_C .(5884,2190)\n",
      "before left tree3\n",
      "split on feature grade_D .(3826,2058)\n",
      "before left tree4\n",
      "split on feature grade_E .(1693,2133)\n",
      "before left tree5\n",
      "stopping condition 3 reached\n",
      "{'splitting_feature': None, 'left': None, 'right': None, 'is_leaf': True, 'prediction': -1}\n",
      "inbetween left and right tree5\n",
      "stopping condition 3 reached\n",
      "{'splitting_feature': None, 'left': None, 'right': None, 'is_leaf': True, 'prediction': -1}\n",
      "after right tree5\n",
      "{'is_leaf': False, 'prediction': None, 'splitting_feature': 'grade_E', 'left': {'splitting_feature': None, 'left': None, 'right': None, 'is_leaf': True, 'prediction': -1}, 'right': {'splitting_feature': None, 'left': None, 'right': None, 'is_leaf': True, 'prediction': -1}}\n",
      "inbetween left and right tree4\n",
      "split on feature grade_F .(2058,0)\n",
      "Creating leaf node_1st if.\n",
      "{'splitting_feature': None, 'left': None, 'right': None, 'is_leaf': True, 'prediction': -1}\n",
      "after right tree4\n",
      "{'is_leaf': False, 'prediction': None, 'splitting_feature': 'grade_D', 'left': {'is_leaf': False, 'prediction': None, 'splitting_feature': 'grade_E', 'left': {'splitting_feature': None, 'left': None, 'right': None, 'is_leaf': True, 'prediction': -1}, 'right': {'splitting_feature': None, 'left': None, 'right': None, 'is_leaf': True, 'prediction': -1}}, 'right': {'splitting_feature': None, 'left': None, 'right': None, 'is_leaf': True, 'prediction': -1}}\n",
      "inbetween left and right tree3\n",
      "split on feature grade_G .(2190,0)\n",
      "Creating leaf node_1st if.\n",
      "{'splitting_feature': None, 'left': None, 'right': None, 'is_leaf': True, 'prediction': -1}\n",
      "after right tree3\n",
      "{'is_leaf': False, 'prediction': None, 'splitting_feature': 'grade_C', 'left': {'is_leaf': False, 'prediction': None, 'splitting_feature': 'grade_D', 'left': {'is_leaf': False, 'prediction': None, 'splitting_feature': 'grade_E', 'left': {'splitting_feature': None, 'left': None, 'right': None, 'is_leaf': True, 'prediction': -1}, 'right': {'splitting_feature': None, 'left': None, 'right': None, 'is_leaf': True, 'prediction': -1}}, 'right': {'splitting_feature': None, 'left': None, 'right': None, 'is_leaf': True, 'prediction': -1}}, 'right': {'splitting_feature': None, 'left': None, 'right': None, 'is_leaf': True, 'prediction': -1}}\n",
      "inbetween left and right tree2\n",
      "split on feature emp_length_5 years .(969,79)\n",
      "before left tree3\n",
      "split on feature term_ 60 months .(0,969)\n",
      "Creating leaf node_2nd if\n",
      "{'splitting_feature': None, 'left': None, 'right': None, 'is_leaf': True, 'prediction': -1}\n",
      "inbetween left and right tree3\n",
      "split on feature home_ownership_MORTGAGE .(34,45)\n",
      "before left tree4\n",
      "split on feature home_ownership_OTHER .(34,0)\n",
      "Creating leaf node_1st if.\n",
      "{'splitting_feature': None, 'left': None, 'right': None, 'is_leaf': True, 'prediction': 1}\n",
      "inbetween left and right tree4\n",
      "split on feature home_ownership_OWN .(45,0)\n",
      "Creating leaf node_1st if.\n",
      "{'splitting_feature': None, 'left': None, 'right': None, 'is_leaf': True, 'prediction': -1}\n",
      "after right tree4\n",
      "{'is_leaf': False, 'prediction': None, 'splitting_feature': 'home_ownership_MORTGAGE', 'left': {'splitting_feature': None, 'left': None, 'right': None, 'is_leaf': True, 'prediction': 1}, 'right': {'splitting_feature': None, 'left': None, 'right': None, 'is_leaf': True, 'prediction': -1}}\n",
      "after right tree3\n",
      "{'is_leaf': False, 'prediction': None, 'splitting_feature': 'emp_length_5 years', 'left': {'splitting_feature': None, 'left': None, 'right': None, 'is_leaf': True, 'prediction': -1}, 'right': {'is_leaf': False, 'prediction': None, 'splitting_feature': 'home_ownership_MORTGAGE', 'left': {'splitting_feature': None, 'left': None, 'right': None, 'is_leaf': True, 'prediction': 1}, 'right': {'splitting_feature': None, 'left': None, 'right': None, 'is_leaf': True, 'prediction': -1}}}\n",
      "after right tree2\n",
      "{'is_leaf': False, 'prediction': None, 'splitting_feature': 'grade_B', 'left': {'is_leaf': False, 'prediction': None, 'splitting_feature': 'grade_C', 'left': {'is_leaf': False, 'prediction': None, 'splitting_feature': 'grade_D', 'left': {'is_leaf': False, 'prediction': None, 'splitting_feature': 'grade_E', 'left': {'splitting_feature': None, 'left': None, 'right': None, 'is_leaf': True, 'prediction': -1}, 'right': {'splitting_feature': None, 'left': None, 'right': None, 'is_leaf': True, 'prediction': -1}}, 'right': {'splitting_feature': None, 'left': None, 'right': None, 'is_leaf': True, 'prediction': -1}}, 'right': {'splitting_feature': None, 'left': None, 'right': None, 'is_leaf': True, 'prediction': -1}}, 'right': {'is_leaf': False, 'prediction': None, 'splitting_feature': 'emp_length_5 years', 'left': {'splitting_feature': None, 'left': None, 'right': None, 'is_leaf': True, 'prediction': -1}, 'right': {'is_leaf': False, 'prediction': None, 'splitting_feature': 'home_ownership_MORTGAGE', 'left': {'splitting_feature': None, 'left': None, 'right': None, 'is_leaf': True, 'prediction': 1}, 'right': {'splitting_feature': None, 'left': None, 'right': None, 'is_leaf': True, 'prediction': -1}}}}\n",
      "inbetween left and right tree1\n",
      "split on feature emp_length_n/a .(96,5)\n",
      "before left tree2\n",
      "split on feature emp_length_< 1 year .(85,11)\n",
      "before left tree3\n",
      "split on feature home_ownership_RENT .(66,19)\n",
      "before left tree4\n",
      "split on feature emp_length_1 year .(64,2)\n",
      "before left tree5\n",
      "stopping condition 3 reached\n",
      "{'splitting_feature': None, 'left': None, 'right': None, 'is_leaf': True, 'prediction': 1}\n",
      "inbetween left and right tree5\n",
      "stopping condition 3 reached\n",
      "{'splitting_feature': None, 'left': None, 'right': None, 'is_leaf': True, 'prediction': -1}\n",
      "after right tree5\n",
      "{'is_leaf': False, 'prediction': None, 'splitting_feature': 'emp_length_1 year', 'left': {'splitting_feature': None, 'left': None, 'right': None, 'is_leaf': True, 'prediction': 1}, 'right': {'splitting_feature': None, 'left': None, 'right': None, 'is_leaf': True, 'prediction': -1}}\n",
      "inbetween left and right tree4\n",
      "split on feature emp_length_10+ years .(15,4)\n",
      "before left tree5\n",
      "stopping condition 3 reached\n",
      "{'splitting_feature': None, 'left': None, 'right': None, 'is_leaf': True, 'prediction': 1}\n",
      "inbetween left and right tree5\n",
      "stopping condition 3 reached\n",
      "{'splitting_feature': None, 'left': None, 'right': None, 'is_leaf': True, 'prediction': -1}\n",
      "after right tree5\n",
      "{'is_leaf': False, 'prediction': None, 'splitting_feature': 'emp_length_10+ years', 'left': {'splitting_feature': None, 'left': None, 'right': None, 'is_leaf': True, 'prediction': 1}, 'right': {'splitting_feature': None, 'left': None, 'right': None, 'is_leaf': True, 'prediction': -1}}\n",
      "after right tree4\n",
      "{'is_leaf': False, 'prediction': None, 'splitting_feature': 'home_ownership_RENT', 'left': {'is_leaf': False, 'prediction': None, 'splitting_feature': 'emp_length_1 year', 'left': {'splitting_feature': None, 'left': None, 'right': None, 'is_leaf': True, 'prediction': 1}, 'right': {'splitting_feature': None, 'left': None, 'right': None, 'is_leaf': True, 'prediction': -1}}, 'right': {'is_leaf': False, 'prediction': None, 'splitting_feature': 'emp_length_10+ years', 'left': {'splitting_feature': None, 'left': None, 'right': None, 'is_leaf': True, 'prediction': 1}, 'right': {'splitting_feature': None, 'left': None, 'right': None, 'is_leaf': True, 'prediction': -1}}}\n",
      "inbetween left and right tree3\n",
      "split on feature emp_length_2 years .(11,0)\n",
      "Creating leaf node_1st if.\n",
      "{'splitting_feature': None, 'left': None, 'right': None, 'is_leaf': True, 'prediction': -1}\n",
      "after right tree3\n",
      "{'is_leaf': False, 'prediction': None, 'splitting_feature': 'emp_length_< 1 year', 'left': {'is_leaf': False, 'prediction': None, 'splitting_feature': 'home_ownership_RENT', 'left': {'is_leaf': False, 'prediction': None, 'splitting_feature': 'emp_length_1 year', 'left': {'splitting_feature': None, 'left': None, 'right': None, 'is_leaf': True, 'prediction': 1}, 'right': {'splitting_feature': None, 'left': None, 'right': None, 'is_leaf': True, 'prediction': -1}}, 'right': {'is_leaf': False, 'prediction': None, 'splitting_feature': 'emp_length_10+ years', 'left': {'splitting_feature': None, 'left': None, 'right': None, 'is_leaf': True, 'prediction': 1}, 'right': {'splitting_feature': None, 'left': None, 'right': None, 'is_leaf': True, 'prediction': -1}}}, 'right': {'splitting_feature': None, 'left': None, 'right': None, 'is_leaf': True, 'prediction': -1}}\n",
      "inbetween left and right tree2\n",
      "split on feature emp_length_3 years .(5,0)\n",
      "Creating leaf node_1st if.\n",
      "{'splitting_feature': None, 'left': None, 'right': None, 'is_leaf': True, 'prediction': -1}\n",
      "after right tree2\n",
      "{'is_leaf': False, 'prediction': None, 'splitting_feature': 'emp_length_n/a', 'left': {'is_leaf': False, 'prediction': None, 'splitting_feature': 'emp_length_< 1 year', 'left': {'is_leaf': False, 'prediction': None, 'splitting_feature': 'home_ownership_RENT', 'left': {'is_leaf': False, 'prediction': None, 'splitting_feature': 'emp_length_1 year', 'left': {'splitting_feature': None, 'left': None, 'right': None, 'is_leaf': True, 'prediction': 1}, 'right': {'splitting_feature': None, 'left': None, 'right': None, 'is_leaf': True, 'prediction': -1}}, 'right': {'is_leaf': False, 'prediction': None, 'splitting_feature': 'emp_length_10+ years', 'left': {'splitting_feature': None, 'left': None, 'right': None, 'is_leaf': True, 'prediction': 1}, 'right': {'splitting_feature': None, 'left': None, 'right': None, 'is_leaf': True, 'prediction': -1}}}, 'right': {'splitting_feature': None, 'left': None, 'right': None, 'is_leaf': True, 'prediction': -1}}, 'right': {'splitting_feature': None, 'left': None, 'right': None, 'is_leaf': True, 'prediction': -1}}\n",
      "after right tree1\n",
      "{'is_leaf': False, 'prediction': None, 'splitting_feature': 'grade_A', 'left': {'is_leaf': False, 'prediction': None, 'splitting_feature': 'grade_B', 'left': {'is_leaf': False, 'prediction': None, 'splitting_feature': 'grade_C', 'left': {'is_leaf': False, 'prediction': None, 'splitting_feature': 'grade_D', 'left': {'is_leaf': False, 'prediction': None, 'splitting_feature': 'grade_E', 'left': {'splitting_feature': None, 'left': None, 'right': None, 'is_leaf': True, 'prediction': -1}, 'right': {'splitting_feature': None, 'left': None, 'right': None, 'is_leaf': True, 'prediction': -1}}, 'right': {'splitting_feature': None, 'left': None, 'right': None, 'is_leaf': True, 'prediction': -1}}, 'right': {'splitting_feature': None, 'left': None, 'right': None, 'is_leaf': True, 'prediction': -1}}, 'right': {'is_leaf': False, 'prediction': None, 'splitting_feature': 'emp_length_5 years', 'left': {'splitting_feature': None, 'left': None, 'right': None, 'is_leaf': True, 'prediction': -1}, 'right': {'is_leaf': False, 'prediction': None, 'splitting_feature': 'home_ownership_MORTGAGE', 'left': {'splitting_feature': None, 'left': None, 'right': None, 'is_leaf': True, 'prediction': 1}, 'right': {'splitting_feature': None, 'left': None, 'right': None, 'is_leaf': True, 'prediction': -1}}}}, 'right': {'is_leaf': False, 'prediction': None, 'splitting_feature': 'emp_length_n/a', 'left': {'is_leaf': False, 'prediction': None, 'splitting_feature': 'emp_length_< 1 year', 'left': {'is_leaf': False, 'prediction': None, 'splitting_feature': 'home_ownership_RENT', 'left': {'is_leaf': False, 'prediction': None, 'splitting_feature': 'emp_length_1 year', 'left': {'splitting_feature': None, 'left': None, 'right': None, 'is_leaf': True, 'prediction': 1}, 'right': {'splitting_feature': None, 'left': None, 'right': None, 'is_leaf': True, 'prediction': -1}}, 'right': {'is_leaf': False, 'prediction': None, 'splitting_feature': 'emp_length_10+ years', 'left': {'splitting_feature': None, 'left': None, 'right': None, 'is_leaf': True, 'prediction': 1}, 'right': {'splitting_feature': None, 'left': None, 'right': None, 'is_leaf': True, 'prediction': -1}}}, 'right': {'splitting_feature': None, 'left': None, 'right': None, 'is_leaf': True, 'prediction': -1}}, 'right': {'splitting_feature': None, 'left': None, 'right': None, 'is_leaf': True, 'prediction': -1}}}\n",
      "inbetween left and right tree0\n",
      "split on feature emp_length_4 years .(25946,2055)\n",
      "before left tree1\n",
      "split on feature emp_length_6 years .(24185,1761)\n",
      "before left tree2\n",
      "split on feature emp_length_7 years .(22708,1477)\n",
      "before left tree3\n",
      "split on feature emp_length_8 years .(21519,1189)\n",
      "before left tree4\n",
      "split on feature emp_length_9 years .(20572,947)\n",
      "before left tree5\n",
      "stopping condition 2 reached\n",
      "{'splitting_feature': None, 'left': None, 'right': None, 'is_leaf': True, 'prediction': 1}\n",
      "inbetween left and right tree5\n",
      "stopping condition 2 reached\n",
      "{'splitting_feature': None, 'left': None, 'right': None, 'is_leaf': True, 'prediction': 1}\n",
      "after right tree5\n",
      "{'is_leaf': False, 'prediction': None, 'splitting_feature': 'emp_length_9 years', 'left': {'splitting_feature': None, 'left': None, 'right': None, 'is_leaf': True, 'prediction': 1}, 'right': {'splitting_feature': None, 'left': None, 'right': None, 'is_leaf': True, 'prediction': 1}}\n",
      "inbetween left and right tree4\n",
      "stopping condition 2 reached\n",
      "{'splitting_feature': None, 'left': None, 'right': None, 'is_leaf': True, 'prediction': 1}\n",
      "after right tree4\n",
      "{'is_leaf': False, 'prediction': None, 'splitting_feature': 'emp_length_8 years', 'left': {'is_leaf': False, 'prediction': None, 'splitting_feature': 'emp_length_9 years', 'left': {'splitting_feature': None, 'left': None, 'right': None, 'is_leaf': True, 'prediction': 1}, 'right': {'splitting_feature': None, 'left': None, 'right': None, 'is_leaf': True, 'prediction': 1}}, 'right': {'splitting_feature': None, 'left': None, 'right': None, 'is_leaf': True, 'prediction': 1}}\n",
      "inbetween left and right tree3\n",
      "stopping condition 2 reached\n",
      "{'splitting_feature': None, 'left': None, 'right': None, 'is_leaf': True, 'prediction': 1}\n",
      "after right tree3\n",
      "{'is_leaf': False, 'prediction': None, 'splitting_feature': 'emp_length_7 years', 'left': {'is_leaf': False, 'prediction': None, 'splitting_feature': 'emp_length_8 years', 'left': {'is_leaf': False, 'prediction': None, 'splitting_feature': 'emp_length_9 years', 'left': {'splitting_feature': None, 'left': None, 'right': None, 'is_leaf': True, 'prediction': 1}, 'right': {'splitting_feature': None, 'left': None, 'right': None, 'is_leaf': True, 'prediction': 1}}, 'right': {'splitting_feature': None, 'left': None, 'right': None, 'is_leaf': True, 'prediction': 1}}, 'right': {'splitting_feature': None, 'left': None, 'right': None, 'is_leaf': True, 'prediction': 1}}\n",
      "inbetween left and right tree2\n",
      "stopping condition 2 reached\n",
      "{'splitting_feature': None, 'left': None, 'right': None, 'is_leaf': True, 'prediction': 1}\n",
      "after right tree2\n",
      "{'is_leaf': False, 'prediction': None, 'splitting_feature': 'emp_length_6 years', 'left': {'is_leaf': False, 'prediction': None, 'splitting_feature': 'emp_length_7 years', 'left': {'is_leaf': False, 'prediction': None, 'splitting_feature': 'emp_length_8 years', 'left': {'is_leaf': False, 'prediction': None, 'splitting_feature': 'emp_length_9 years', 'left': {'splitting_feature': None, 'left': None, 'right': None, 'is_leaf': True, 'prediction': 1}, 'right': {'splitting_feature': None, 'left': None, 'right': None, 'is_leaf': True, 'prediction': 1}}, 'right': {'splitting_feature': None, 'left': None, 'right': None, 'is_leaf': True, 'prediction': 1}}, 'right': {'splitting_feature': None, 'left': None, 'right': None, 'is_leaf': True, 'prediction': 1}}, 'right': {'splitting_feature': None, 'left': None, 'right': None, 'is_leaf': True, 'prediction': 1}}\n",
      "inbetween left and right tree1\n",
      "stopping condition 2 reached\n",
      "{'splitting_feature': None, 'left': None, 'right': None, 'is_leaf': True, 'prediction': 1}\n",
      "after right tree1\n",
      "{'is_leaf': False, 'prediction': None, 'splitting_feature': 'emp_length_4 years', 'left': {'is_leaf': False, 'prediction': None, 'splitting_feature': 'emp_length_6 years', 'left': {'is_leaf': False, 'prediction': None, 'splitting_feature': 'emp_length_7 years', 'left': {'is_leaf': False, 'prediction': None, 'splitting_feature': 'emp_length_8 years', 'left': {'is_leaf': False, 'prediction': None, 'splitting_feature': 'emp_length_9 years', 'left': {'splitting_feature': None, 'left': None, 'right': None, 'is_leaf': True, 'prediction': 1}, 'right': {'splitting_feature': None, 'left': None, 'right': None, 'is_leaf': True, 'prediction': 1}}, 'right': {'splitting_feature': None, 'left': None, 'right': None, 'is_leaf': True, 'prediction': 1}}, 'right': {'splitting_feature': None, 'left': None, 'right': None, 'is_leaf': True, 'prediction': 1}}, 'right': {'splitting_feature': None, 'left': None, 'right': None, 'is_leaf': True, 'prediction': 1}}, 'right': {'splitting_feature': None, 'left': None, 'right': None, 'is_leaf': True, 'prediction': 1}}\n",
      "after right tree0\n"
     ]
    }
   ],
   "source": [
    "my_decision_tree= decision_tree_create(train_f,feature_list,target,current_depth=0,max_depth=6)"
   ]
  },
  {
   "cell_type": "code",
   "execution_count": 165,
   "metadata": {
    "collapsed": false
   },
   "outputs": [
    {
     "data": {
      "text/plain": [
       "'term_ 36 months'"
      ]
     },
     "execution_count": 165,
     "metadata": {},
     "output_type": "execute_result"
    }
   ],
   "source": [
    "my_decision_tree['splitting_feature']"
   ]
  },
  {
   "cell_type": "code",
   "execution_count": null,
   "metadata": {
    "collapsed": false
   },
   "outputs": [],
   "source": []
  },
  {
   "cell_type": "code",
   "execution_count": null,
   "metadata": {
    "collapsed": true
   },
   "outputs": [],
   "source": []
  },
  {
   "cell_type": "code",
   "execution_count": 166,
   "metadata": {
    "collapsed": false
   },
   "outputs": [],
   "source": [
    "def classify(tree, x, annotate = False):\n",
    "       # if the node is a leaf node.\n",
    "    if tree['is_leaf']:\n",
    "        if annotate:\n",
    "             print(\"At leaf, predicting %s\" % tree['prediction'])\n",
    "        return tree['prediction']\n",
    "    else:\n",
    "        \n",
    "        # split on feature.\n",
    "        split_feature_value = x[tree['splitting_feature']]\n",
    "        \n",
    "        if annotate:\n",
    "             print(\"Split on %s = %s\" % (tree['splitting_feature'], split_feature_value))\n",
    "        if split_feature_value == 0:\n",
    "            return classify(tree['left'], x, annotate)\n",
    "        else:\n",
    "            return classify(tree['right'],x,annotate)"
   ]
  },
  {
   "cell_type": "code",
   "execution_count": 185,
   "metadata": {
    "collapsed": false
   },
   "outputs": [
    {
     "name": "stdout",
     "output_type": "stream",
     "text": [
      "-1\n",
      "Split on term_ 36 months = 0\n",
      "Split on grade_A = 0\n",
      "Split on grade_B = 0\n",
      "Split on grade_C = 0\n",
      "Split on grade_D = 1\n",
      "At leaf, predicting -1\n",
      "Predicted class: -1 \n"
     ]
    }
   ],
   "source": [
    "print(test_f.iloc[0]['safe_loans'])\n",
    "print('Predicted class: %s ' % classify(my_decision_tree, test_f.iloc[0],annotate=True\n",
    "                                       ))"
   ]
  },
  {
   "cell_type": "code",
   "execution_count": null,
   "metadata": {
    "collapsed": false
   },
   "outputs": [],
   "source": []
  },
  {
   "cell_type": "code",
   "execution_count": 210,
   "metadata": {
    "collapsed": false
   },
   "outputs": [],
   "source": [
    "def evaluate_classification_error(tree, data):\n",
    "    # Apply the classify(tree, x) to each row in your data\n",
    "    data['prediction'] = [classify(tree, x) for x in data.to_dict(orient='records')]\n",
    "    \n",
    "    accuracy  = np.count_nonzero(data['prediction'] == data['safe_loans'])/len(data)\n",
    "    return accuracy"
   ]
  },
  {
   "cell_type": "code",
   "execution_count": 211,
   "metadata": {
    "collapsed": false
   },
   "outputs": [
    {
     "data": {
      "text/plain": [
       "0.5771219302024989"
      ]
     },
     "execution_count": 211,
     "metadata": {},
     "output_type": "execute_result"
    }
   ],
   "source": [
    "evaluate_classification_eror(my_decision_tree, test_f)"
   ]
  },
  {
   "cell_type": "code",
   "execution_count": 218,
   "metadata": {
    "collapsed": false
   },
   "outputs": [],
   "source": [
    "def print_stump(tree, name = 'root'):\n",
    "    split_name = tree['splitting_feature'] # split_name is something like 'term. 36 months'\n",
    "    if split_name is None:\n",
    "        print(\"(leaf, label: %s)\" % tree['prediction'])\n",
    "        return None\n",
    "    split_feature, split_value = split_name.split('_')\n",
    "    print('                       %s' % name)\n",
    "    print ('         |---------------|----------------|')\n",
    "    print ('         |                                |')\n",
    "    print ('         |                                |')\n",
    "    print ('         |                                |')\n",
    "    print ('  [{0} == 0]               [{0} == 1]    '.format(split_name))\n",
    "    print ('         |                                |')\n",
    "    print ('         |                                |')\n",
    "    print ('         |                                |')\n",
    "    print ('    (%s)                         (%s)' \\\n",
    "        % (('leaf, label: ' + str(tree['left']['prediction']) if tree['left']['is_leaf'] else 'subtree'),\n",
    "           ('leaf, label: ' + str(tree['right']['prediction']) if tree['right']['is_leaf'] else 'subtree')))"
   ]
  },
  {
   "cell_type": "code",
   "execution_count": 219,
   "metadata": {
    "collapsed": false
   },
   "outputs": [
    {
     "name": "stdout",
     "output_type": "stream",
     "text": [
      "                       root\n",
      "         |---------------|----------------|\n",
      "         |                                |\n",
      "         |                                |\n",
      "         |                                |\n",
      "  [term_ 36 months == 0]               [term_ 36 months == 1]    \n",
      "         |                                |\n",
      "         |                                |\n",
      "         |                                |\n",
      "    (subtree)                         (subtree)\n"
     ]
    }
   ],
   "source": [
    "print_stump(my_decision_tree, name='root')"
   ]
  },
  {
   "cell_type": "code",
   "execution_count": 220,
   "metadata": {
    "collapsed": false
   },
   "outputs": [
    {
     "name": "stdout",
     "output_type": "stream",
     "text": [
      "                       term_ 36 months\n",
      "         |---------------|----------------|\n",
      "         |                                |\n",
      "         |                                |\n",
      "         |                                |\n",
      "  [grade_A == 0]               [grade_A == 1]    \n",
      "         |                                |\n",
      "         |                                |\n",
      "         |                                |\n",
      "    (subtree)                         (subtree)\n"
     ]
    }
   ],
   "source": [
    "print_stump(my_decision_tree['left'], my_decision_tree['splitting_feature'])\n"
   ]
  },
  {
   "cell_type": "code",
   "execution_count": 221,
   "metadata": {
    "collapsed": false
   },
   "outputs": [
    {
     "name": "stdout",
     "output_type": "stream",
     "text": [
      "                       grade_A\n",
      "         |---------------|----------------|\n",
      "         |                                |\n",
      "         |                                |\n",
      "         |                                |\n",
      "  [grade_B == 0]               [grade_B == 1]    \n",
      "         |                                |\n",
      "         |                                |\n",
      "         |                                |\n",
      "    (subtree)                         (subtree)\n"
     ]
    }
   ],
   "source": [
    "print_stump(my_decision_tree['left']['left'], my_decision_tree['left']['splitting_feature'])"
   ]
  },
  {
   "cell_type": "code",
   "execution_count": 222,
   "metadata": {
    "collapsed": false
   },
   "outputs": [
    {
     "ename": "ValueError",
     "evalue": "too many values to unpack (expected 2)",
     "output_type": "error",
     "traceback": [
      "\u001b[1;31m---------------------------------------------------------------------------\u001b[0m",
      "\u001b[1;31mValueError\u001b[0m                                Traceback (most recent call last)",
      "\u001b[1;32m<ipython-input-222-a0fa17bff43b>\u001b[0m in \u001b[0;36m<module>\u001b[1;34m()\u001b[0m\n\u001b[1;32m----> 1\u001b[1;33m \u001b[0mprint_stump\u001b[0m\u001b[1;33m(\u001b[0m\u001b[0mmy_decision_tree\u001b[0m\u001b[1;33m[\u001b[0m\u001b[1;34m'right'\u001b[0m\u001b[1;33m]\u001b[0m\u001b[1;33m,\u001b[0m \u001b[0mmy_decision_tree\u001b[0m\u001b[1;33m[\u001b[0m\u001b[1;34m'splitting_feature'\u001b[0m\u001b[1;33m]\u001b[0m\u001b[1;33m)\u001b[0m\u001b[1;33m\u001b[0m\u001b[0m\n\u001b[0m",
      "\u001b[1;32m<ipython-input-218-c5cde0b1bc91>\u001b[0m in \u001b[0;36mprint_stump\u001b[1;34m(tree, name)\u001b[0m\n\u001b[0;32m      4\u001b[0m         \u001b[0mprint\u001b[0m\u001b[1;33m(\u001b[0m\u001b[1;34m\"(leaf, label: %s)\"\u001b[0m \u001b[1;33m%\u001b[0m \u001b[0mtree\u001b[0m\u001b[1;33m[\u001b[0m\u001b[1;34m'prediction'\u001b[0m\u001b[1;33m]\u001b[0m\u001b[1;33m)\u001b[0m\u001b[1;33m\u001b[0m\u001b[0m\n\u001b[0;32m      5\u001b[0m         \u001b[1;32mreturn\u001b[0m \u001b[1;32mNone\u001b[0m\u001b[1;33m\u001b[0m\u001b[0m\n\u001b[1;32m----> 6\u001b[1;33m     \u001b[0msplit_feature\u001b[0m\u001b[1;33m,\u001b[0m \u001b[0msplit_value\u001b[0m \u001b[1;33m=\u001b[0m \u001b[0msplit_name\u001b[0m\u001b[1;33m.\u001b[0m\u001b[0msplit\u001b[0m\u001b[1;33m(\u001b[0m\u001b[1;34m'_'\u001b[0m\u001b[1;33m)\u001b[0m\u001b[1;33m\u001b[0m\u001b[0m\n\u001b[0m\u001b[0;32m      7\u001b[0m     \u001b[0mprint\u001b[0m\u001b[1;33m(\u001b[0m\u001b[1;34m'                       %s'\u001b[0m \u001b[1;33m%\u001b[0m \u001b[0mname\u001b[0m\u001b[1;33m)\u001b[0m\u001b[1;33m\u001b[0m\u001b[0m\n\u001b[0;32m      8\u001b[0m     \u001b[0mprint\u001b[0m \u001b[1;33m(\u001b[0m\u001b[1;34m'         |---------------|----------------|'\u001b[0m\u001b[1;33m)\u001b[0m\u001b[1;33m\u001b[0m\u001b[0m\n",
      "\u001b[1;31mValueError\u001b[0m: too many values to unpack (expected 2)"
     ]
    }
   ],
   "source": [
    "print_stump(my_decision_tree['right'], my_decision_tree['splitting_feature'])"
   ]
  },
  {
   "cell_type": "code",
   "execution_count": 223,
   "metadata": {
    "collapsed": false
   },
   "outputs": [
    {
     "name": "stdout",
     "output_type": "stream",
     "text": [
      "(leaf, label: 1)\n"
     ]
    }
   ],
   "source": [
    "print_stump(my_decision_tree['right']['right'], my_decision_tree['right']['splitting_feature'])"
   ]
  },
  {
   "cell_type": "code",
   "execution_count": null,
   "metadata": {
    "collapsed": true
   },
   "outputs": [],
   "source": []
  }
 ],
 "metadata": {
  "kernelspec": {
   "display_name": "Python 3",
   "language": "python",
   "name": "python3"
  },
  "language_info": {
   "codemirror_mode": {
    "name": "ipython",
    "version": 3
   },
   "file_extension": ".py",
   "mimetype": "text/x-python",
   "name": "python",
   "nbconvert_exporter": "python",
   "pygments_lexer": "ipython3",
   "version": "3.6.1"
  }
 },
 "nbformat": 4,
 "nbformat_minor": 2
}
