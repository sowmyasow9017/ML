{
 "cells": [
  {
   "cell_type": "code",
   "execution_count": 1,
   "metadata": {
    "collapsed": true
   },
   "outputs": [],
   "source": [
    "import numpy as np\n",
    "import pandas as pd"
   ]
  },
  {
   "cell_type": "code",
   "execution_count": 6,
   "metadata": {
    "collapsed": true
   },
   "outputs": [],
   "source": [
    "import json\n",
    "import string"
   ]
  },
  {
   "cell_type": "code",
   "execution_count": 3,
   "metadata": {
    "collapsed": true
   },
   "outputs": [],
   "source": [
    "imp_w = open('important_words.json','r')\n",
    "important_words = json.loads(imp_w.read())"
   ]
  },
  {
   "cell_type": "code",
   "execution_count": 14,
   "metadata": {
    "collapsed": false
   },
   "outputs": [],
   "source": [
    "products = pd.read_csv('amazon_baby_subset.csv')\n",
    "products['review'] = products['review'].astype(str)"
   ]
  },
  {
   "cell_type": "code",
   "execution_count": 15,
   "metadata": {
    "collapsed": false
   },
   "outputs": [
    {
     "data": {
      "text/html": [
       "<div>\n",
       "<style>\n",
       "    .dataframe thead tr:only-child th {\n",
       "        text-align: right;\n",
       "    }\n",
       "\n",
       "    .dataframe thead th {\n",
       "        text-align: left;\n",
       "    }\n",
       "\n",
       "    .dataframe tbody tr th {\n",
       "        vertical-align: top;\n",
       "    }\n",
       "</style>\n",
       "<table border=\"1\" class=\"dataframe\">\n",
       "  <thead>\n",
       "    <tr style=\"text-align: right;\">\n",
       "      <th></th>\n",
       "      <th>name</th>\n",
       "      <th>review</th>\n",
       "      <th>rating</th>\n",
       "      <th>sentiment</th>\n",
       "    </tr>\n",
       "  </thead>\n",
       "  <tbody>\n",
       "    <tr>\n",
       "      <th>0</th>\n",
       "      <td>Stop Pacifier Sucking without tears with Thumb...</td>\n",
       "      <td>All of my kids have cried non-stop when I trie...</td>\n",
       "      <td>5</td>\n",
       "      <td>1</td>\n",
       "    </tr>\n",
       "  </tbody>\n",
       "</table>\n",
       "</div>"
      ],
      "text/plain": [
       "                                                name  \\\n",
       "0  Stop Pacifier Sucking without tears with Thumb...   \n",
       "\n",
       "                                              review  rating  sentiment  \n",
       "0  All of my kids have cried non-stop when I trie...       5          1  "
      ]
     },
     "execution_count": 15,
     "metadata": {},
     "output_type": "execute_result"
    }
   ],
   "source": [
    "products.head(1)"
   ]
  },
  {
   "cell_type": "code",
   "execution_count": 16,
   "metadata": {
    "collapsed": true
   },
   "outputs": [],
   "source": [
    "def remove_punctuation(review):\n",
    "    review = review.lower()\n",
    "    translator = str.maketrans('','',string.punctuation)\n",
    "    return review.translate(translator)"
   ]
  },
  {
   "cell_type": "code",
   "execution_count": 17,
   "metadata": {
    "collapsed": false
   },
   "outputs": [],
   "source": [
    "products['clean_review'] = products['review'].apply(remove_punctuation)"
   ]
  },
  {
   "cell_type": "raw",
   "metadata": {},
   "source": [
    "products.head(1)\n"
   ]
  },
  {
   "cell_type": "code",
   "execution_count": 20,
   "metadata": {
    "collapsed": false
   },
   "outputs": [],
   "source": [
    "for word in important_words:\n",
    "    products[word] = products['clean_review'].apply(lambda a:a.split().count(word))"
   ]
  },
  {
   "cell_type": "code",
   "execution_count": 22,
   "metadata": {
    "collapsed": true
   },
   "outputs": [],
   "source": [
    "train = open('module-4-assignment-train-idx.json','r')\n",
    "train_ID = json.loads(train.read())\n",
    "valid = open('module-4-assignment-validation-idx.json','r')\n",
    "valid_ID = json.loads(valid.read())"
   ]
  },
  {
   "cell_type": "code",
   "execution_count": 23,
   "metadata": {
    "collapsed": false
   },
   "outputs": [],
   "source": [
    "train_data = products.iloc[train_ID]\n",
    "valid_data = products.iloc[valid_ID]"
   ]
  },
  {
   "cell_type": "code",
   "execution_count": 89,
   "metadata": {
    "collapsed": false
   },
   "outputs": [],
   "source": [
    "products = products.fillna({'review':'','clean_review':''})"
   ]
  },
  {
   "cell_type": "code",
   "execution_count": 246,
   "metadata": {
    "collapsed": false
   },
   "outputs": [],
   "source": [
    "def to_numpy_array(dataframe,features,sentiment_label):\n",
    "    dataframe['constant'] =1\n",
    "    features = ['constant'] + features\n",
    "    feature_matrix = dataframe[features].as_matrix()\n",
    "    sentiment = dataframe[sentiment_label].as_matrix()\n",
    "    \n",
    "    \n",
    "    return  feature_matrix,sentiment"
   ]
  },
  {
   "cell_type": "code",
   "execution_count": 247,
   "metadata": {
    "collapsed": false
   },
   "outputs": [],
   "source": [
    "train_matrix,train_sentiment = to_numpy_array(train_data,important_words,'sentiment')"
   ]
  },
  {
   "cell_type": "code",
   "execution_count": 248,
   "metadata": {
    "collapsed": false
   },
   "outputs": [],
   "source": [
    "valid_matrix,valid_sentiment = to_numpy_array(valid_data,important_words,'sentiment')"
   ]
  },
  {
   "cell_type": "code",
   "execution_count": 93,
   "metadata": {
    "collapsed": false
   },
   "outputs": [],
   "source": [
    "def sigmoid(feature_matrix,co_effs):\n",
    "    \n",
    "    predict_prob = 1/(1+np.exp(-np.dot(feature_matrix,co_effs)))\n",
    "    return predict_prob"
   ]
  },
  {
   "cell_type": "code",
   "execution_count": null,
   "metadata": {
    "collapsed": true
   },
   "outputs": [],
   "source": []
  },
  {
   "cell_type": "code",
   "execution_count": 94,
   "metadata": {
    "collapsed": false
   },
   "outputs": [],
   "source": [
    "def feature_derivative(feature,error,l2_penalty,co_eff,is_constant):\n",
    "    \n",
    "    if is_constant == True:\n",
    "        derivative = np.dot(feature,error)\n",
    "        \n",
    "    else:\n",
    "        derivative = np.dot(feature,error)- 2 * l2_penalty*co_eff\n",
    "        \n",
    "    return derivative\n",
    "    "
   ]
  },
  {
   "cell_type": "code",
   "execution_count": 103,
   "metadata": {
    "collapsed": true
   },
   "outputs": [],
   "source": [
    "def compute_log_likelihood(feature_matrix,sentiment,co_effs,l2_penalty):\n",
    "    indicator = (sentiment== +1)\n",
    "    score = np.dot(feature_matrix,co_effs)\n",
    "    log_likelhood = np.sum((indicator-1)*score-np.log(1+np.exp(-score))) - l2_penalty*np.sum(co_effs[1:]**2)\n",
    "    \n",
    "    return log_likelhood"
   ]
  },
  {
   "cell_type": "code",
   "execution_count": 120,
   "metadata": {
    "collapsed": false
   },
   "outputs": [],
   "source": [
    "def logistic_regression_with_L2(feature_matrix,sentiment,initial_coeff,l2_penalty,step_size,max_iter):\n",
    "    \n",
    "    co_effs = np.array(initial_coeff)\n",
    "    derivative = np.zeros(co_effs.shape)\n",
    "    for itr in range(max_iter):\n",
    "        \n",
    "        prediction = sigmoid(feature_matrix,co_effs)\n",
    "        indicator = (sentiment == +1)\n",
    "        error = indicator - prediction\n",
    "\n",
    "        for j in range(len(co_effs)):\n",
    "            is_constant = (j==0)\n",
    "            derivative[j] = feature_derivative(feature_matrix[:,j],error,l2_penalty,co_effs[j],is_constant)\n",
    "            \n",
    "        co_effs = co_effs + step_size * derivative\n",
    "        if (itr<=15) or (itr<=100 and itr%10==0) or (itr<=1000 and itr%100 == 0):\n",
    "            \n",
    "            log_likelihood = compute_log_likelihood(feature_matrix,sentiment,co_effs,l2_penalty)\n",
    "\n",
    "            print('iteration %d: log likelihood = %.8f' %(itr, log_likelihood))\n",
    "            \n",
    "    return co_effs         "
   ]
  },
  {
   "cell_type": "code",
   "execution_count": null,
   "metadata": {
    "collapsed": false
   },
   "outputs": [],
   "source": []
  },
  {
   "cell_type": "code",
   "execution_count": null,
   "metadata": {
    "collapsed": false
   },
   "outputs": [],
   "source": []
  },
  {
   "cell_type": "code",
   "execution_count": 121,
   "metadata": {
    "collapsed": false
   },
   "outputs": [
    {
     "name": "stdout",
     "output_type": "stream",
     "text": [
      "iteration 0: log likelihood = -29140.90494121\n",
      "iteration 1: log likelihood = -28928.71848005\n",
      "iteration 2: log likelihood = -28725.05245713\n",
      "iteration 3: log likelihood = -28529.28381570\n",
      "iteration 4: log likelihood = -28340.89899298\n",
      "iteration 5: log likelihood = -28159.45740073\n",
      "iteration 6: log likelihood = -27984.56959298\n",
      "iteration 7: log likelihood = -27815.88382176\n",
      "iteration 8: log likelihood = -27653.07759417\n",
      "iteration 9: log likelihood = -27495.85227091\n",
      "iteration 10: log likelihood = -27343.92951289\n",
      "iteration 11: log likelihood = -27197.04884240\n",
      "iteration 12: log likelihood = -27054.96587260\n",
      "iteration 13: log likelihood = -26917.45094013\n",
      "iteration 14: log likelihood = -26784.28798544\n",
      "iteration 15: log likelihood = -26655.27359157\n",
      "iteration 20: log likelihood = -26066.09388365\n",
      "iteration 30: log likelihood = -25109.92556285\n",
      "iteration 40: log likelihood = -24365.32456678\n",
      "iteration 50: log likelihood = -23766.96630701\n",
      "iteration 60: log likelihood = -23274.01377467\n",
      "iteration 70: log likelihood = -22859.70559241\n",
      "iteration 80: log likelihood = -22505.77619877\n",
      "iteration 90: log likelihood = -22199.31922988\n",
      "iteration 100: log likelihood = -21930.94223745\n",
      "iteration 200: log likelihood = -20355.68088533\n",
      "iteration 300: log likelihood = -19621.48916293\n",
      "iteration 400: log likelihood = -19190.53943646\n",
      "iteration 500: log likelihood = -18906.86860870\n"
     ]
    }
   ],
   "source": [
    "co_efficients_0_penalty = logistic_regression_with_L2(feature_matrix=train_matrix,sentiment=train_sentiment,\n",
    "                                            initial_coeff= np.zeros(train_matrix.shape[1]),l2_penalty=0,step_size=5e-6,max_iter=501)"
   ]
  },
  {
   "cell_type": "code",
   "execution_count": null,
   "metadata": {
    "collapsed": true
   },
   "outputs": [],
   "source": []
  },
  {
   "cell_type": "code",
   "execution_count": 122,
   "metadata": {
    "collapsed": false
   },
   "outputs": [
    {
     "name": "stdout",
     "output_type": "stream",
     "text": [
      "iteration 0: log likelihood = -29140.90941977\n",
      "iteration 1: log likelihood = -28928.74458068\n",
      "iteration 2: log likelihood = -28725.11591598\n",
      "iteration 3: log likelihood = -28529.39913058\n",
      "iteration 4: log likelihood = -28341.07954921\n",
      "iteration 5: log likelihood = -28159.71557184\n",
      "iteration 6: log likelihood = -27984.91682598\n",
      "iteration 7: log likelihood = -27816.33071233\n",
      "iteration 8: log likelihood = -27653.63395455\n",
      "iteration 9: log likelihood = -27496.52719189\n",
      "iteration 10: log likelihood = -27344.73142075\n",
      "iteration 11: log likelihood = -27197.98555108\n",
      "iteration 12: log likelihood = -27056.04463167\n",
      "iteration 13: log likelihood = -26918.67847871\n",
      "iteration 14: log likelihood = -26785.67055243\n",
      "iteration 15: log likelihood = -26656.81699246\n",
      "iteration 20: log likelihood = -26068.51522321\n",
      "iteration 30: log likelihood = -25114.35933883\n",
      "iteration 40: log likelihood = -24371.96216461\n",
      "iteration 50: log likelihood = -23775.89670638\n",
      "iteration 60: log likelihood = -23285.27045766\n",
      "iteration 70: log likelihood = -22873.29051339\n",
      "iteration 80: log likelihood = -22521.67284513\n",
      "iteration 90: log likelihood = -22217.50011109\n",
      "iteration 100: log likelihood = -21951.37335664\n",
      "iteration 200: log likelihood = -20396.44621213\n",
      "iteration 300: log likelihood = -19679.10659702\n",
      "iteration 400: log likelihood = -19262.40568144\n",
      "iteration 500: log likelihood = -18990.99748225\n"
     ]
    }
   ],
   "source": [
    "co_efficients_4_penalty = logistic_regression_with_L2(feature_matrix=train_matrix,sentiment=train_sentiment,\n",
    "                                            initial_coeff= np.zeros(train_matrix.shape[1]),l2_penalty=4,step_size=5e-6,max_iter=501)"
   ]
  },
  {
   "cell_type": "code",
   "execution_count": 123,
   "metadata": {
    "collapsed": false
   },
   "outputs": [
    {
     "name": "stdout",
     "output_type": "stream",
     "text": [
      "iteration 0: log likelihood = -29140.91613760\n",
      "iteration 1: log likelihood = -28928.78372898\n",
      "iteration 2: log likelihood = -28725.21109145\n",
      "iteration 3: log likelihood = -28529.57206815\n",
      "iteration 4: log likelihood = -28341.35031126\n",
      "iteration 5: log likelihood = -28160.10269970\n",
      "iteration 6: log likelihood = -27985.43746826\n",
      "iteration 7: log likelihood = -27817.00073797\n",
      "iteration 8: log likelihood = -27654.46805502\n",
      "iteration 9: log likelihood = -27497.53897444\n",
      "iteration 10: log likelihood = -27345.93349398\n",
      "iteration 11: log likelihood = -27199.38960353\n",
      "iteration 12: log likelihood = -27057.66150387\n",
      "iteration 13: log likelihood = -26920.51822925\n",
      "iteration 14: log likelihood = -26787.74251843\n",
      "iteration 15: log likelihood = -26659.12984496\n",
      "iteration 20: log likelihood = -26072.14257702\n",
      "iteration 30: log likelihood = -25120.99742443\n",
      "iteration 40: log likelihood = -24381.89376581\n",
      "iteration 50: log likelihood = -23789.25101552\n",
      "iteration 60: log likelihood = -23302.09353467\n",
      "iteration 70: log likelihood = -22893.58127759\n",
      "iteration 80: log likelihood = -22545.40267830\n",
      "iteration 90: log likelihood = -22244.62409186\n",
      "iteration 100: log likelihood = -21981.83696357\n",
      "iteration 200: log likelihood = -20456.88982473\n",
      "iteration 300: log likelihood = -19764.08030563\n",
      "iteration 400: log likelihood = -19367.84830686\n",
      "iteration 500: log likelihood = -19113.82046032\n"
     ]
    }
   ],
   "source": [
    "co_efficients_10_penalty = logistic_regression_with_L2(feature_matrix=train_matrix,sentiment=train_sentiment,\n",
    "                                            initial_coeff= np.zeros(train_matrix.shape[1]),l2_penalty=10,step_size=5e-6,max_iter=501)"
   ]
  },
  {
   "cell_type": "code",
   "execution_count": 124,
   "metadata": {
    "collapsed": false
   },
   "outputs": [
    {
     "name": "stdout",
     "output_type": "stream",
     "text": [
      "iteration 0: log likelihood = -29141.01690508\n",
      "iteration 1: log likelihood = -28929.37057300\n",
      "iteration 2: log likelihood = -28726.63688200\n",
      "iteration 3: log likelihood = -28532.16113328\n",
      "iteration 4: log likelihood = -28345.40134870\n",
      "iteration 5: log likelihood = -28165.89111219\n",
      "iteration 6: log likelihood = -27993.21734407\n",
      "iteration 7: log likelihood = -27827.00659745\n",
      "iteration 8: log likelihood = -27666.91642665\n",
      "iteration 9: log likelihood = -27512.62983323\n",
      "iteration 10: log likelihood = -27363.85157973\n",
      "iteration 11: log likelihood = -27220.30562992\n",
      "iteration 12: log likelihood = -27081.73326666\n",
      "iteration 13: log likelihood = -26947.89162121\n",
      "iteration 14: log likelihood = -26818.55245807\n",
      "iteration 15: log likelihood = -26693.50112594\n",
      "iteration 20: log likelihood = -26125.88892861\n",
      "iteration 30: log likelihood = -25218.78359340\n",
      "iteration 40: log likelihood = -24527.36611046\n",
      "iteration 50: log likelihood = -23983.76345347\n",
      "iteration 60: log likelihood = -23545.77791804\n",
      "iteration 70: log likelihood = -23185.89204831\n",
      "iteration 80: log likelihood = -22885.41206831\n",
      "iteration 90: log likelihood = -22631.19020180\n",
      "iteration 100: log likelihood = -22413.70315922\n",
      "iteration 200: log likelihood = -21271.75542038\n",
      "iteration 300: log likelihood = -20858.48483196\n",
      "iteration 400: log likelihood = -20670.60530319\n",
      "iteration 500: log likelihood = -20575.02971081\n"
     ]
    }
   ],
   "source": [
    "co_efficients_1e2_penalty = logistic_regression_with_L2(feature_matrix=train_matrix,sentiment=train_sentiment,\n",
    "                                            initial_coeff= np.zeros(train_matrix.shape[1]),l2_penalty=1e2,step_size=5e-6,max_iter=501)"
   ]
  },
  {
   "cell_type": "code",
   "execution_count": 125,
   "metadata": {
    "collapsed": false
   },
   "outputs": [
    {
     "name": "stdout",
     "output_type": "stream",
     "text": [
      "iteration 0: log likelihood = -29142.02457994\n",
      "iteration 1: log likelihood = -28935.19987524\n",
      "iteration 2: log likelihood = -28740.70630357\n",
      "iteration 3: log likelihood = -28557.54276881\n",
      "iteration 4: log likelihood = -28384.85855556\n",
      "iteration 5: log likelihood = -28221.90927434\n",
      "iteration 6: log likelihood = -28068.03017515\n",
      "iteration 7: log likelihood = -27922.61931933\n",
      "iteration 8: log likelihood = -27785.12655200\n",
      "iteration 9: log likelihood = -27655.04595729\n",
      "iteration 10: log likelihood = -27531.91042798\n",
      "iteration 11: log likelihood = -27415.28753610\n",
      "iteration 12: log likelihood = -27304.77622378\n",
      "iteration 13: log likelihood = -27200.00403261\n",
      "iteration 14: log likelihood = -27100.62470632\n",
      "iteration 15: log likelihood = -27006.31606919\n",
      "iteration 20: log likelihood = -26601.01678735\n",
      "iteration 30: log likelihood = -26036.54293440\n",
      "iteration 40: log likelihood = -25681.74259035\n",
      "iteration 50: log likelihood = -25452.43662935\n",
      "iteration 60: log likelihood = -25300.94551838\n",
      "iteration 70: log likelihood = -25199.07475827\n",
      "iteration 80: log likelihood = -25129.56588361\n",
      "iteration 90: log likelihood = -25081.55543457\n",
      "iteration 100: log likelihood = -25048.04723829\n",
      "iteration 200: log likelihood = -24967.53139686\n",
      "iteration 300: log likelihood = -24963.87614693\n",
      "iteration 400: log likelihood = -24963.65575438\n",
      "iteration 500: log likelihood = -24963.64038801\n"
     ]
    }
   ],
   "source": [
    "co_efficients_1e3_penalty = logistic_regression_with_L2(feature_matrix=train_matrix,sentiment=train_sentiment,\n",
    "                                            initial_coeff= np.zeros(train_matrix.shape[1]),l2_penalty=1e3,step_size=5e-6,max_iter=501)"
   ]
  },
  {
   "cell_type": "code",
   "execution_count": 126,
   "metadata": {
    "collapsed": false
   },
   "outputs": [
    {
     "name": "stdout",
     "output_type": "stream",
     "text": [
      "iteration 0: log likelihood = -29252.86881371\n",
      "iteration 1: log likelihood = -29252.71842149\n",
      "iteration 2: log likelihood = -29252.67392265\n",
      "iteration 3: log likelihood = -29252.63599729\n",
      "iteration 4: log likelihood = -29252.60174397\n",
      "iteration 5: log likelihood = -29252.57070577\n",
      "iteration 6: log likelihood = -29252.54257580\n",
      "iteration 7: log likelihood = -29252.51708131\n",
      "iteration 8: log likelihood = -29252.49397536\n",
      "iteration 9: log likelihood = -29252.47303417\n",
      "iteration 10: log likelihood = -29252.45405492\n",
      "iteration 11: log likelihood = -29252.43685382\n",
      "iteration 12: log likelihood = -29252.42126426\n",
      "iteration 13: log likelihood = -29252.40713526\n",
      "iteration 14: log likelihood = -29252.39432999\n",
      "iteration 15: log likelihood = -29252.38272442\n",
      "iteration 20: log likelihood = -29252.33910669\n",
      "iteration 30: log likelihood = -29252.29612550\n",
      "iteration 40: log likelihood = -29252.28005402\n",
      "iteration 50: log likelihood = -29252.27404457\n",
      "iteration 60: log likelihood = -29252.27179752\n",
      "iteration 70: log likelihood = -29252.27095730\n",
      "iteration 80: log likelihood = -29252.27064312\n",
      "iteration 90: log likelihood = -29252.27052564\n",
      "iteration 100: log likelihood = -29252.27048172\n",
      "iteration 200: log likelihood = -29252.27045548\n",
      "iteration 300: log likelihood = -29252.27045548\n",
      "iteration 400: log likelihood = -29252.27045548\n",
      "iteration 500: log likelihood = -29252.27045548\n"
     ]
    }
   ],
   "source": [
    "co_efficients_1e5_penalty = logistic_regression_with_L2(feature_matrix=train_matrix,sentiment=train_sentiment,\n",
    "                                            initial_coeff= np.zeros(train_matrix.shape[1]),l2_penalty=1e5,step_size=5e-6,max_iter=501)"
   ]
  },
  {
   "cell_type": "code",
   "execution_count": 127,
   "metadata": {
    "collapsed": true
   },
   "outputs": [],
   "source": [
    "features = ['constant'] + important_words"
   ]
  },
  {
   "cell_type": "code",
   "execution_count": 145,
   "metadata": {
    "collapsed": false
   },
   "outputs": [],
   "source": [
    "all_co_eff = pd.DataFrame({'co_eff_0':co_efficients_0_penalty,'co_eff_4':co_efficients_4_penalty,\n",
    "              'co_eff_10':co_efficients_10_penalty,'co_eff_1e2':co_efficients_1e2_penalty,\n",
    "              'co_eff_1e3':co_efficients_1e3_penalty,'co_eff_1e5':co_efficients_1e5_penalty,'word':features},features)"
   ]
  },
  {
   "cell_type": "code",
   "execution_count": 146,
   "metadata": {
    "collapsed": false
   },
   "outputs": [],
   "source": [
    "positive_words = list(all_co_eff.sort_values(by='co_eff_0',ascending=False)[0:5].index)"
   ]
  },
  {
   "cell_type": "code",
   "execution_count": 147,
   "metadata": {
    "collapsed": false
   },
   "outputs": [],
   "source": [
    "negative_words = list(all_co_eff.sort_values(by='co_eff_0')[0:5].index)"
   ]
  },
  {
   "cell_type": "code",
   "execution_count": 149,
   "metadata": {
    "collapsed": false
   },
   "outputs": [
    {
     "data": {
      "image/png": "[encoded data removed]",
      "text/plain": [
       "<matplotlib.figure.Figure at 0x1bed51f0>"
      ]
     },
     "metadata": {},
     "output_type": "display_data"
    }
   ],
   "source": [
    "import matplotlib.pyplot as plt\n",
    "%matplotlib inline\n",
    "plt.rcParams['figure.figsize'] = 10, 6\n",
    "\n",
    "def make_coefficient_plot(table, positive_words, negative_words, l2_penalty_list):\n",
    "    cmap_positive = plt.get_cmap('Reds')\n",
    "    cmap_negative = plt.get_cmap('Blues')\n",
    "    \n",
    "    xx = l2_penalty_list\n",
    "    plt.plot(xx, [0.]*len(xx), '--', lw=1, color='k')\n",
    "    \n",
    "    table_positive_words = table[table['word'].isin(positive_words)]\n",
    "    table_negative_words = table[table['word'].isin(negative_words)]\n",
    "    del table_positive_words['word']\n",
    "    del table_negative_words['word']\n",
    "    \n",
    "    for i in range(len(positive_words)):\n",
    "        color = cmap_positive(0.8*((i+1)/(len(positive_words)*1.2)+0.15))\n",
    "        plt.plot(xx, table_positive_words[i:i+1].as_matrix().flatten(),\n",
    "                 '-', label=positive_words[i], linewidth=4.0, color=color)\n",
    "        \n",
    "    for i in range(len(negative_words)):\n",
    "        color = cmap_negative(0.8*((i+1)/(len(negative_words)*1.2)+0.15))\n",
    "        plt.plot(xx, table_negative_words[i:i+1].as_matrix().flatten(),\n",
    "                 '-', label=negative_words[i], linewidth=4.0, color=color)\n",
    "        \n",
    "    plt.legend(loc='best', ncol=3, prop={'size':16}, columnspacing=0.5)\n",
    "    plt.axis([1, 1e5, -1, 2])\n",
    "    plt.title('Coefficient path')\n",
    "    plt.xlabel('L2 penalty ($\\lambda$)')\n",
    "    plt.ylabel('Coefficient value')\n",
    "    plt.xscale('log')\n",
    "    plt.rcParams.update({'font.size': 18})\n",
    "    plt.tight_layout()\n",
    "\n",
    "\n",
    "make_coefficient_plot(all_co_eff, positive_words, negative_words, l2_penalty_list=[0, 4, 10, 1e2, 1e3, 1e5])\n"
   ]
  },
  {
   "cell_type": "code",
   "execution_count": 197,
   "metadata": {
    "collapsed": true
   },
   "outputs": [],
   "source": [
    "def compute_score(feature_matrix,co_eff):\n",
    "    product = np.dot(feature_matrix,co_eff)\n",
    "    score = (product>0)\n",
    "    return score    "
   ]
  },
  {
   "cell_type": "code",
   "execution_count": 198,
   "metadata": {
    "collapsed": false
   },
   "outputs": [],
   "source": [
    "indicator_train = (train_sentiment == +1)"
   ]
  },
  {
   "cell_type": "code",
   "execution_count": 213,
   "metadata": {
    "collapsed": false
   },
   "outputs": [
    {
     "data": {
      "text/plain": [
       "42361"
      ]
     },
     "execution_count": 213,
     "metadata": {},
     "output_type": "execute_result"
    }
   ],
   "source": [
    "train_data.shape[0]"
   ]
  },
  {
   "cell_type": "code",
   "execution_count": 214,
   "metadata": {
    "collapsed": true
   },
   "outputs": [],
   "source": [
    "def accuracy(ind,pred,length):\n",
    "    accuracy = np.count_nonzero(ind==pred)/length\n",
    "    return accuracy"
   ]
  },
  {
   "cell_type": "code",
   "execution_count": 215,
   "metadata": {
    "collapsed": false
   },
   "outputs": [],
   "source": [
    "train_score_0 = compute_score(train_matrix,co_efficients_0_penalty)\n",
    "train_accuracy_0 = accuracy(indicator_train,train_score_0,train_data.shape[0])"
   ]
  },
  {
   "cell_type": "code",
   "execution_count": 216,
   "metadata": {
    "collapsed": true
   },
   "outputs": [],
   "source": [
    "train_score_4 = compute_score(train_matrix,co_efficients_4_penalty)\n",
    "train_accuracy_4 = accuracy(indicator_train,train_score_4,train_data.shape[0])"
   ]
  },
  {
   "cell_type": "code",
   "execution_count": 217,
   "metadata": {
    "collapsed": true
   },
   "outputs": [],
   "source": [
    "train_score_10 = compute_score(train_matrix,co_efficients_10_penalty)\n",
    "train_accuracy_10 = accuracy(indicator_train,train_score_10,train_data.shape[0])"
   ]
  },
  {
   "cell_type": "code",
   "execution_count": 218,
   "metadata": {
    "collapsed": true
   },
   "outputs": [],
   "source": [
    "train_score_1e2 = compute_score(train_matrix,co_efficients_1e2_penalty)\n",
    "train_accuracy_1e2 = accuracy(indicator_train,train_score_1e2,train_data.shape[0])"
   ]
  },
  {
   "cell_type": "code",
   "execution_count": 219,
   "metadata": {
    "collapsed": true
   },
   "outputs": [],
   "source": [
    "train_score_1e3 = compute_score(train_matrix,co_efficients_1e3_penalty)\n",
    "train_accuracy_1e3 = accuracy(indicator_train,train_score_1e3,train_data.shape[0])"
   ]
  },
  {
   "cell_type": "code",
   "execution_count": 220,
   "metadata": {
    "collapsed": true
   },
   "outputs": [],
   "source": [
    "train_score_1e5 = compute_score(train_matrix,co_efficients_1e5_penalty)\n",
    "train_accuracy_1e5 = accuracy(indicator_train,train_score_1e5,train_data.shape[0])"
   ]
  },
  {
   "cell_type": "code",
   "execution_count": 221,
   "metadata": {
    "collapsed": false
   },
   "outputs": [
    {
     "name": "stdout",
     "output_type": "stream",
     "text": [
      "0.8021057104412077\n",
      "0.8020821038219117\n",
      "0.8020112839640235\n",
      "0.8011850522886618\n",
      "0.7907981397983995\n",
      "0.7037369278345648\n"
     ]
    }
   ],
   "source": [
    "print(train_accuracy_0)\n",
    "print(train_accuracy_4)\n",
    "print(train_accuracy_10)\n",
    "print(train_accuracy_1e2)\n",
    "print(train_accuracy_1e3)\n",
    "print(train_accuracy_1e5)"
   ]
  },
  {
   "cell_type": "code",
   "execution_count": 239,
   "metadata": {
    "collapsed": false
   },
   "outputs": [],
   "source": [
    "indicator_valid = (valid_sentiment == +1)"
   ]
  },
  {
   "cell_type": "code",
   "execution_count": 240,
   "metadata": {
    "collapsed": false
   },
   "outputs": [],
   "source": [
    "valid_score_0 = compute_score(valid_matrix,co_efficients_0_penalty)\n",
    "valid_accuracy_0 = accuracy(indicator_valid,valid_score_0,valid_data.shape[0])\n",
    "valid_score_4 = compute_score(valid_matrix,co_efficients_4_penalty)\n",
    "valid_accuracy_4 = accuracy(indicator_valid,valid_score_4,valid_data.shape[0])\n",
    "valid_score_10 = compute_score(valid_matrix,co_efficients_10_penalty)\n",
    "valid_accuracy_10 = accuracy(indicator_valid,valid_score_10,valid_data.shape[0])\n",
    "valid_score_1e2 = compute_score(valid_matrix,co_efficients_1e2_penalty)\n",
    "valid_accuracy_1e2 = accuracy(indicator_valid,valid_score_1e2,valid_data.shape[0])\n",
    "valid_score_1e3 = compute_score(valid_matrix,co_efficients_1e3_penalty)\n",
    "valid_accuracy_1e3 = accuracy(indicator_valid,valid_score_1e3,valid_data.shape[0])\n",
    "valid_score_1e5 = compute_score(valid_matrix,co_efficients_1e5_penalty)\n",
    "valid_accuracy_1e5 = accuracy(indicator_valid,valid_score_1e5,valid_data.shape[0])"
   ]
  },
  {
   "cell_type": "code",
   "execution_count": 241,
   "metadata": {
    "collapsed": false
   },
   "outputs": [
    {
     "name": "stdout",
     "output_type": "stream",
     "text": [
      "0.7956306600690879\n",
      "0.7956306600690879\n",
      "0.7954439361404164\n",
      "0.7944169545327233\n",
      "0.785547567920829\n",
      "0.6901316403697134\n"
     ]
    }
   ],
   "source": [
    "print(valid_accuracy_0)\n",
    "print(valid_accuracy_4)\n",
    "print(valid_accuracy_10)\n",
    "print(valid_accuracy_1e2)\n",
    "print(valid_accuracy_1e3)\n",
    "print(valid_accuracy_1e5)"
   ]
  },
  {
   "cell_type": "code",
   "execution_count": null,
   "metadata": {
    "collapsed": false
   },
   "outputs": [],
   "source": []
  },
  {
   "cell_type": "code",
   "execution_count": null,
   "metadata": {
    "collapsed": true
   },
   "outputs": [],
   "source": []
  }
 ],
 "metadata": {
  "kernelspec": {
   "display_name": "Python 3",
   "language": "python",
   "name": "python3"
  },
  "language_info": {
   "codemirror_mode": {
    "name": "ipython",
    "version": 3
   },
   "file_extension": ".py",
   "mimetype": "text/x-python",
   "name": "python",
   "nbconvert_exporter": "python",
   "pygments_lexer": "ipython3",
   "version": "3.6.1"
  }
 },
 "nbformat": 4,
 "nbformat_minor": 2
}
