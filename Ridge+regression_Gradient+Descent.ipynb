{
 "cells": [
  {
   "cell_type": "code",
   "execution_count": 1,
   "metadata": {
    "collapsed": true
   },
   "outputs": [],
   "source": [
    "import pandas as pd\n",
    "import numpy as np\n",
    "import matplotlib.pyplot as plt\n",
    "%matplotlib inline"
   ]
  },
  {
   "cell_type": "code",
   "execution_count": 2,
   "metadata": {
    "collapsed": true
   },
   "outputs": [],
   "source": [
    "def polynomial_dataframe(input_feature,degree):\n",
    "           \n",
    "    poly_df = pd.DataFrame()\n",
    "    poly_df['Degree_1'] = input_feature\n",
    "        \n",
    "    if degree >1:\n",
    "        \n",
    "        for i in range(2,degree+1):\n",
    "            \n",
    "            poly_df['Degree_'+str(i)] = input_feature**i\n",
    "            \n",
    "    return poly_df         "
   ]
  },
  {
   "cell_type": "code",
   "execution_count": 3,
   "metadata": {
    "collapsed": true
   },
   "outputs": [],
   "source": [
    "dtype_dict = {'bathrooms':float, 'waterfront':int, 'sqft_above':int, 'sqft_living15':float, 'grade':int, 'yr_renovated':int, 'price':float, 'bedrooms':float, 'zipcode':str, 'long':float, 'sqft_lot15':float, 'sqft_living':float, 'floors':float, 'condition':int, 'lat':float, 'date':str, 'sqft_basement':int, 'yr_built':int, 'id':str, 'sqft_lot':int, 'view':int}"
   ]
  },
  {
   "cell_type": "code",
   "execution_count": 11,
   "metadata": {
    "collapsed": true
   },
   "outputs": [],
   "source": [
    "train_set = pd.read_csv('wk3_kc_house_train_data.csv',dtype=dtype_dict)\n",
    "test_set = pd.read_csv('wk3_kc_house_test_data.csv',dtype=dtype_dict)\n",
    "sales = pd.read_csv('kc_house_data.csv',dtype = dtype_dict).sort_values('sqft_living')\n",
    "sales['constant'] = 1\n",
    "train_set['constant'] = 1\n",
    "test_set['constant'] =1 "
   ]
  },
  {
   "cell_type": "code",
   "execution_count": 12,
   "metadata": {
    "collapsed": true
   },
   "outputs": [],
   "source": [
    "def compute_cost(output,l2_penalty,co_eff):\n",
    "    \n",
    "    cost = np.sum((predition - output)**2) + l2_penalty * np.sum(co_eff**2)\n",
    "    \n",
    "    return cost"
   ]
  },
  {
   "cell_type": "code",
   "execution_count": 13,
   "metadata": {
    "collapsed": true
   },
   "outputs": [],
   "source": [
    "def get_numpy_data(input_data,output):\n",
    "    \n",
    "    \n",
    "    x = input_data.as_matrix()\n",
    "    \n",
    "    y = output.as_matrix()\n",
    "    \n",
    "    return x,y\n",
    "    "
   ]
  },
  {
   "cell_type": "code",
   "execution_count": 14,
   "metadata": {
    "collapsed": true
   },
   "outputs": [],
   "source": [
    "def predict_output(features,weights):\n",
    "    \n",
    "    prediction =  np.dot(features,weights)\n",
    "    \n",
    "    return prediction  \n",
    "    "
   ]
  },
  {
   "cell_type": "code",
   "execution_count": 15,
   "metadata": {
    "collapsed": true
   },
   "outputs": [],
   "source": [
    "def feature_derivative_ridge(errors, feature, weight, l2_penalty, feature_is_constant):\n",
    "    \n",
    "    if feature_is_constant == True:\n",
    "        derivative = 2*np.dot(errors,feature)\n",
    "    \n",
    "    else:\n",
    "        derivative = 2*np.dot(errors,feature) + 2*(l2_penalty*weight)\n",
    "    \n",
    "    return derivative"
   ]
  },
  {
   "cell_type": "code",
   "execution_count": 16,
   "metadata": {
    "collapsed": true
   },
   "outputs": [],
   "source": [
    "def feature_derivative_ridge_vectorized(errors, feature, weight, l2_penalty):\n",
    "    derivative = np.zeros(feature.shape[1])\n",
    "    for j in range(feature.shape[1]):\n",
    "        \n",
    "        if j == 0:\n",
    "            \n",
    "            derivative[j] = 2*np.dot(errors.T,feature[:,j])\n",
    "            \n",
    "        else:\n",
    "            \n",
    "            derivative[j] = 2*np.dot(errors.T,feature[:,j]) + 2*(l2_penalty*weight[j])\n",
    "    \n",
    "    return derivative"
   ]
  },
  {
   "cell_type": "code",
   "execution_count": 19,
   "metadata": {},
   "outputs": [],
   "source": [
    "(example_features, example_output) = get_numpy_data(sales[['constant','sqft_living']], sales['price'])\n",
    "my_weights = np.array([1., 10.])\n",
    "test_predictions = predict_output(example_features, my_weights)\n",
    "errors = (test_predictions - example_output).reshape((-1,1))"
   ]
  },
  {
   "cell_type": "code",
   "execution_count": 20,
   "metadata": {},
   "outputs": [
    {
     "data": {
      "text/plain": [
       "array([ -2.24467493e+10,  -5.65541668e+13])"
      ]
     },
     "execution_count": 20,
     "metadata": {},
     "output_type": "execute_result"
    }
   ],
   "source": [
    "feature_derivative_ridge_vectorized(errors,example_features,my_weights,1)\n"
   ]
  },
  {
   "cell_type": "code",
   "execution_count": 21,
   "metadata": {
    "collapsed": true
   },
   "outputs": [],
   "source": [
    "(example_features, example_output) = get_numpy_data(sales[['constant','sqft_living']], sales['price'])"
   ]
  },
  {
   "cell_type": "code",
   "execution_count": 60,
   "metadata": {},
   "outputs": [
    {
     "name": "stdout",
     "output_type": "stream",
     "text": [
      "-5.6554166816e+13\n",
      "-5.6554166816e+13\n",
      "\n",
      "-22446749330.0\n",
      "-22446749330.0\n"
     ]
    }
   ],
   "source": [
    "my_weights = np.array([1., 10.])\n",
    "test_predictions = predict_output(example_features, my_weights)\n",
    "errors = test_predictions - example_output\n",
    "print(feature_derivative_ridge(errors, example_features[:,1], my_weights[1], 1, False))\n",
    "# next two lines should print the same values\n",
    "\n",
    "print(np.sum(errors*example_features[:,1])*2+20.)\n",
    "print('')\n",
    "# next two lines should print the same values\n",
    "print(feature_derivative_ridge(errors, example_features[:,0], my_weights[0], 1, True))\n",
    "print(np.sum(errors)*2)"
   ]
  },
  {
   "cell_type": "code",
   "execution_count": 43,
   "metadata": {
    "collapsed": true
   },
   "outputs": [],
   "source": [
    "def gradient_decsent_ridge_reg(input_features,output,initial_weights,step_size,l2_penalty,max_iter =100):\n",
    "    \n",
    "    \n",
    "    weights = np.array(initial_weights)\n",
    "    #input_feat,output = get_numpy_data(input_features,output)\n",
    "    \n",
    "    for i in range(max_iter):   \n",
    "    \n",
    "        prediction = predict_output(input_features,weights)  \n",
    "        errors = prediction - output  \n",
    "        derivative = feature_derivative_ridge_vectorized(errors,input_features,weights,l2_penalty)\n",
    "        weights = weights - step_size*derivative\n",
    "        \n",
    "    return weights"
   ]
  },
  {
   "cell_type": "code",
   "execution_count": 44,
   "metadata": {
    "collapsed": true
   },
   "outputs": [],
   "source": [
    "def gradient_descent_ridge(feature_matrix,output,initial_weights,step_size,l2_penalty,max_iter=100):\n",
    "    \n",
    "    weights = np.array(initial_weights)\n",
    "    \n",
    "    while max_iter>0:\n",
    "        \n",
    "        prediction = predict_output(feature_matrix,weights)\n",
    "        error = prediction-output\n",
    "        for  i in range(len(weights)):\n",
    "            \n",
    "            if i ==0:\n",
    "                feature_is_constant = True\n",
    "                \n",
    "            else:\n",
    "                feature_is_constant = False\n",
    "                \n",
    "            derivative = feature_derivative_ridge(error,feature_matrix[:,i],weights[i],l2_penalty,feature_is_constant)\n",
    "            \n",
    "            weights[i]  = weights[i] - step_size * derivative\n",
    "            \n",
    "        max_iter = max_iter-1\n",
    "        \n",
    "    return weights"
   ]
  },
  {
   "cell_type": "code",
   "execution_count": 45,
   "metadata": {
    "collapsed": true
   },
   "outputs": [],
   "source": [
    "(simple_train_feature_matrix, train_output) = get_numpy_data(train_set[['constant','sqft_living']],train_set['price'])\n",
    "(simple_test_feature_matrix, test_output) = get_numpy_data(test_set[['constant','sqft_living']],test_set['price'])"
   ]
  },
  {
   "cell_type": "code",
   "execution_count": 53,
   "metadata": {},
   "outputs": [],
   "source": [
    "simple_weights_0_penalty = gradient_descent_ridge(simple_train_feature_matrix,train_output,initial_weights = np.array([0.,0.]),step_size= 1e-12,l2_penalty=0.0,max_iter=1000)"
   ]
  },
  {
   "cell_type": "code",
   "execution_count": 54,
   "metadata": {},
   "outputs": [],
   "source": [
    "simple_weights_0_penalty_vec = gradient_decsent_ridge_reg(simple_train_feature_matrix,train_output,initial_weights = np.array([0.,0.]),step_size= 1e-12,l2_penalty=0.0,max_iter=1000)"
   ]
  },
  {
   "cell_type": "code",
   "execution_count": 55,
   "metadata": {},
   "outputs": [
    {
     "name": "stdout",
     "output_type": "stream",
     "text": [
      "[ -8.55038595e-02   2.64788506e+02]\n",
      "[ -8.55038595e-02   2.64788506e+02]\n"
     ]
    }
   ],
   "source": [
    "print(simple_weights_0_penalty)\n",
    "print(simple_weights_0_penalty_vec)"
   ]
  },
  {
   "cell_type": "code",
   "execution_count": 51,
   "metadata": {},
   "outputs": [],
   "source": [
    "simple_weights_high_penalty = gradient_descent_ridge(simple_train_feature_matrix,train_output,initial_weights = np.zeros(simple_train_feature_matrix.shape[1]),step_size= 1e-12,l2_penalty=1e11,max_iter=1000)\n",
    "simple_weights_high_penalty_vec = gradient_decsent_ridge_reg(simple_train_feature_matrix,train_output,initial_weights = np.zeros(simple_train_feature_matrix.shape[1]),step_size= 1e-12,l2_penalty=1e11,max_iter=1000)"
   ]
  },
  {
   "cell_type": "code",
   "execution_count": 52,
   "metadata": {},
   "outputs": [
    {
     "name": "stdout",
     "output_type": "stream",
     "text": [
      "[  6.96906922  89.30826422]\n",
      "[  6.96906922  89.30826422]\n"
     ]
    }
   ],
   "source": [
    "print(simple_weights_high_penalty)\n",
    "print(simple_weights_high_penalty_vec)"
   ]
  },
  {
   "cell_type": "code",
   "execution_count": 96,
   "metadata": {},
   "outputs": [
    {
     "name": "stdout",
     "output_type": "stream",
     "text": [
      "9.27913649763e+14\n"
     ]
    }
   ],
   "source": [
    "initial_predictions = predict_output(simple_test_feature_matrix,np.array([0.,0.]))\n",
    "initial_rss = np.sum((initial_predictions-test_output)**2)\n",
    "print(initial_rss)"
   ]
  },
  {
   "cell_type": "code",
   "execution_count": 97,
   "metadata": {},
   "outputs": [
    {
     "name": "stdout",
     "output_type": "stream",
     "text": [
      "1.43086951736e+14\n"
     ]
    }
   ],
   "source": [
    "no_reg_predictions = predict_output(simple_test_feature_matrix,simple_weights_0_penalty)\n",
    "no_reg_rss = np.sum((no_reg_predictions-test_output)**2)\n",
    "print(no_reg_rss)"
   ]
  },
  {
   "cell_type": "code",
   "execution_count": 99,
   "metadata": {},
   "outputs": [
    {
     "name": "stdout",
     "output_type": "stream",
     "text": [
      "4.85876997386e+14\n"
     ]
    }
   ],
   "source": [
    "reg_predictions = predict_output(simple_test_feature_matrix,simple_weights_high_penalty)\n",
    "reg_rss = np.sum((reg_predictions-test_output)**2)\n",
    "print(reg_rss)"
   ]
  },
  {
   "cell_type": "code",
   "execution_count": 42,
   "metadata": {},
   "outputs": [
    {
     "data": {
      "text/plain": [
       "[<matplotlib.lines.Line2D at 0xb5312b0>,\n",
       " <matplotlib.lines.Line2D at 0xb531d30>,\n",
       " <matplotlib.lines.Line2D at 0xa14d438>,\n",
       " <matplotlib.lines.Line2D at 0xa143dd8>,\n",
       " <matplotlib.lines.Line2D at 0xa13ee48>,\n",
       " <matplotlib.lines.Line2D at 0xa135240>]"
      ]
     },
     "execution_count": 42,
     "metadata": {},
     "output_type": "execute_result"
    },
    {
     "data": {
      "image/png": "[encoded data removed]",
      "text/plain": [
       "<matplotlib.figure.Figure at 0x9b32be0>"
      ]
     },
     "metadata": {},
     "output_type": "display_data"
    }
   ],
   "source": [
    "import matplotlib.pyplot as plt\n",
    "%matplotlib inline\n",
    "plt.plot(simple_train_feature_matrix,train_output,'k.',\n",
    "        simple_train_feature_matrix,predict_output(simple_train_feature_matrix, simple_weights_0_penalty),'b-',\n",
    "        simple_train_feature_matrix,predict_output(simple_train_feature_matrix, simple_weights_high_penalty),'r-')"
   ]
  },
  {
   "cell_type": "code",
   "execution_count": 71,
   "metadata": {},
   "outputs": [],
   "source": [
    "prediction_no_regul = predict_output(test_set[['constant','sqft_living']],np.array([ -1.63113501e-01,2.63024369e+02]))#-8.55038595e-02 , 2.64788506e+02]))"
   ]
  },
  {
   "cell_type": "code",
   "execution_count": 72,
   "metadata": {},
   "outputs": [
    {
     "data": {
      "text/plain": [
       "143065780375630.72"
      ]
     },
     "execution_count": 72,
     "metadata": {},
     "output_type": "execute_result"
    }
   ],
   "source": [
    "np.sum((prediction_no_regul-test_set['price'])**2)"
   ]
  },
  {
   "cell_type": "code",
   "execution_count": 62,
   "metadata": {},
   "outputs": [],
   "source": [
    "multiple_models_train_input,multiple_train_output = get_numpy_data(train_set[['constant','sqft_living','sqft_living15']],train_set['price'])\n",
    "multiple_models_test_input,multiple_test_output = get_numpy_data(test_set[['constant','sqft_living','sqft_living15']],test_set['price'])"
   ]
  },
  {
   "cell_type": "code",
   "execution_count": 75,
   "metadata": {
    "collapsed": true
   },
   "outputs": [],
   "source": [
    "initial_weights = np.array([0.,0.,0.])\n",
    "step_size = 1e-12\n",
    "max_iter = 1000"
   ]
  },
  {
   "cell_type": "code",
   "execution_count": 78,
   "metadata": {},
   "outputs": [],
   "source": [
    "multiple_weights_0_penalty = gradient_decsent_ridge_reg(multiple_models_train_input,multiple_train_output,initial_weights,step_size,l2_penalty=0,max_iter=1000)\n",
    "multiple_weights_high_penalty = gradient_decsent_ridge_reg(multiple_models_train_input,multiple_train_output,initial_weights,step_size,l2_penalty=1e11,max_iter=1000)"
   ]
  },
  {
   "cell_type": "code",
   "execution_count": 79,
   "metadata": {},
   "outputs": [
    {
     "name": "stdout",
     "output_type": "stream",
     "text": [
      "[ -2.22154863e-01   2.46527617e+02   2.03795399e+01]\n",
      "[  5.32706595  70.80524334  61.63875935]\n"
     ]
    }
   ],
   "source": [
    "print(multiple_weights_0_penalty)\n",
    "print(multiple_weights_high_penalty)"
   ]
  },
  {
   "cell_type": "code",
   "execution_count": 80,
   "metadata": {},
   "outputs": [
    {
     "name": "stdout",
     "output_type": "stream",
     "text": [
      "9.27913649763e+14\n"
     ]
    }
   ],
   "source": [
    "initial_predictions =predict_output(multiple_models_test_input,initial_weights)\n",
    "initial_rss = np.sum((initial_predictions-multiple_test_output)**2)\n",
    "print(initial_rss)"
   ]
  },
  {
   "cell_type": "code",
   "execution_count": 93,
   "metadata": {},
   "outputs": [
    {
     "name": "stdout",
     "output_type": "stream",
     "text": [
      "1.42759126397e+14\n"
     ]
    }
   ],
   "source": [
    "no_regularization_predictions =predict_output(multiple_models_test_input,multiple_weights_0_penalty)\n",
    "no_regularization_rss = np.sum((no_regularization_predictions-multiple_test_output)**2)\n",
    "print(no_regularization_rss)"
   ]
  },
  {
   "cell_type": "code",
   "execution_count": 95,
   "metadata": {},
   "outputs": [
    {
     "name": "stdout",
     "output_type": "stream",
     "text": [
      "3.56770519506e+14\n"
     ]
    }
   ],
   "source": [
    "regularization_predictions =predict_output(multiple_models_test_input,multiple_weights_high_penalty)\n",
    "regularization_rss = np.sum((regularization_predictions-multiple_test_output)**2)\n",
    "print(regularization_rss)"
   ]
  },
  {
   "cell_type": "code",
   "execution_count": 86,
   "metadata": {},
   "outputs": [
    {
     "data": {
      "text/plain": [
       "191644.07502822403"
      ]
     },
     "execution_count": 86,
     "metadata": {},
     "output_type": "execute_result"
    }
   ],
   "source": [
    "no_regularization_predictions[0]-multiple_test_output[0]"
   ]
  },
  {
   "cell_type": "code",
   "execution_count": 87,
   "metadata": {},
   "outputs": [
    {
     "data": {
      "text/plain": [
       "-41856.128182277898"
      ]
     },
     "execution_count": 87,
     "metadata": {},
     "output_type": "execute_result"
    }
   ],
   "source": [
    "regularization_predictions[0]-multiple_test_output[0]"
   ]
  },
  {
   "cell_type": "code",
   "execution_count": null,
   "metadata": {
    "collapsed": true
   },
   "outputs": [],
   "source": []
  }
 ],
 "metadata": {
  "kernelspec": {
   "display_name": "Python 3",
   "language": "python",
   "name": "python3"
  },
  "language_info": {
   "codemirror_mode": {
    "name": "ipython",
    "version": 3
   },
   "file_extension": ".py",
   "mimetype": "text/x-python",
   "name": "python",
   "nbconvert_exporter": "python",
   "pygments_lexer": "ipython3",
   "version": "3.6.2"
  }
 },
 "nbformat": 4,
 "nbformat_minor": 2
}
